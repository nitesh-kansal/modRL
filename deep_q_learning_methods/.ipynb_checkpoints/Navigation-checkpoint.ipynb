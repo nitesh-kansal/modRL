{
 "cells": [
  {
   "cell_type": "markdown",
   "metadata": {},
   "source": [
    "# Navigation\n",
    "\n",
    "---\n",
    "\n",
    "In this notebook, you will learn how to use the Unity ML-Agents environment for the first project of the [Deep Reinforcement Learning Nanodegree](https://www.udacity.com/course/deep-reinforcement-learning-nanodegree--nd893).\n",
    "\n",
    "### 1. Start the Environment\n",
    "\n",
    "We begin by importing some necessary packages.  If the code cell below returns an error, please revisit the project instructions to double-check that you have installed [Unity ML-Agents](https://github.com/Unity-Technologies/ml-agents/blob/master/docs/Installation.md) and [NumPy](http://www.numpy.org/)."
   ]
  },
  {
   "cell_type": "code",
   "execution_count": 3,
   "metadata": {},
   "outputs": [
    {
     "name": "stdout",
     "output_type": "stream",
     "text": [
      "\u001b[31mERROR: Could not find a version that satisfies the requirement tensorflow==1.7.1 (from unityagents) (from versions: 2.5.0, 2.5.1, 2.5.2, 2.5.3, 2.6.0rc0, 2.6.0rc1, 2.6.0rc2, 2.6.0, 2.6.1, 2.6.2, 2.6.3, 2.6.4, 2.6.5, 2.7.0rc0, 2.7.0rc1, 2.7.0, 2.7.1, 2.7.2, 2.7.3, 2.7.4, 2.8.0rc0, 2.8.0rc1, 2.8.0, 2.8.1, 2.8.2, 2.8.3, 2.9.0rc0, 2.9.0rc1, 2.9.0rc2, 2.9.0, 2.9.1, 2.9.2, 2.10.0rc0, 2.10.0rc1, 2.10.0rc2, 2.10.0rc3, 2.10.0, 2.11.0rc0, 2.11.0rc1, 2.11.0rc2)\u001b[0m\u001b[31m\n",
      "\u001b[0m\u001b[31mERROR: No matching distribution found for tensorflow==1.7.1\u001b[0m\u001b[31m\n",
      "\u001b[0m"
     ]
    }
   ],
   "source": [
    "!pip -q install ../python"
   ]
  },
  {
   "cell_type": "code",
   "execution_count": 1,
   "metadata": {},
   "outputs": [],
   "source": [
    "from unityagents import UnityEnvironment\n",
    "import numpy as np"
   ]
  },
  {
   "cell_type": "markdown",
   "metadata": {},
   "source": [
    "Next, we will start the environment!  **_Before running the code cell below_**, change the `file_name` parameter to match the location of the Unity environment that you downloaded.\n",
    "\n",
    "- **Mac**: `\"path/to/Banana.app\"`\n",
    "- **Windows** (x86): `\"path/to/Banana_Windows_x86/Banana.exe\"`\n",
    "- **Windows** (x86_64): `\"path/to/Banana_Windows_x86_64/Banana.exe\"`\n",
    "- **Linux** (x86): `\"path/to/Banana_Linux/Banana.x86\"`\n",
    "- **Linux** (x86_64): `\"path/to/Banana_Linux/Banana.x86_64\"`\n",
    "- **Linux** (x86, headless): `\"path/to/Banana_Linux_NoVis/Banana.x86\"`\n",
    "- **Linux** (x86_64, headless): `\"path/to/Banana_Linux_NoVis/Banana.x86_64\"`\n",
    "\n",
    "For instance, if you are using a Mac, then you downloaded `Banana.app`.  If this file is in the same folder as the notebook, then the line below should appear as follows:\n",
    "```\n",
    "env = UnityEnvironment(file_name=\"Banana.app\")\n",
    "```"
   ]
  },
  {
   "cell_type": "code",
   "execution_count": 2,
   "metadata": {},
   "outputs": [
    {
     "name": "stderr",
     "output_type": "stream",
     "text": [
      "INFO:unityagents:\n",
      "'Academy' started successfully!\n",
      "Unity Academy name: Academy\n",
      "        Number of Brains: 1\n",
      "        Number of External Brains : 1\n",
      "        Lesson number : 0\n",
      "        Reset Parameters :\n",
      "\t\t\n",
      "Unity brain name: BananaBrain\n",
      "        Number of Visual Observations (per agent): 0\n",
      "        Vector Observation space type: continuous\n",
      "        Vector Observation space size (per agent): 37\n",
      "        Number of stacked Vector Observation: 1\n",
      "        Vector Action space type: discrete\n",
      "        Vector Action space size (per agent): 4\n",
      "        Vector Action descriptions: , , , \n"
     ]
    }
   ],
   "source": [
    "env = UnityEnvironment(file_name=\"Banana.app\")"
   ]
  },
  {
   "cell_type": "markdown",
   "metadata": {},
   "source": [
    "Environments contain **_brains_** which are responsible for deciding the actions of their associated agents. Here we check for the first brain available, and set it as the default brain we will be controlling from Python."
   ]
  },
  {
   "cell_type": "code",
   "execution_count": 3,
   "metadata": {},
   "outputs": [],
   "source": [
    "# get the default brain\n",
    "brain_name = env.brain_names[0]\n",
    "brain = env.brains[brain_name]"
   ]
  },
  {
   "cell_type": "code",
   "execution_count": null,
   "metadata": {},
   "outputs": [],
   "source": []
  },
  {
   "cell_type": "markdown",
   "metadata": {},
   "source": [
    "### 2. Examine the State and Action Spaces\n",
    "\n",
    "The simulation contains a single agent that navigates a large environment.  At each time step, it has four actions at its disposal:\n",
    "- `0` - walk forward \n",
    "- `1` - walk backward\n",
    "- `2` - turn left\n",
    "- `3` - turn right\n",
    "\n",
    "The state space has `37` dimensions and contains the agent's velocity, along with ray-based perception of objects around agent's forward direction.  A reward of `+1` is provided for collecting a yellow banana, and a reward of `-1` is provided for collecting a blue banana. \n",
    "\n",
    "Run the code cell below to print some information about the environment."
   ]
  },
  {
   "cell_type": "code",
   "execution_count": 4,
   "metadata": {},
   "outputs": [
    {
     "name": "stdout",
     "output_type": "stream",
     "text": [
      "Number of agents: 1\n",
      "Number of actions: 4\n",
      "States look like: [1.         0.         0.         0.         0.84408134 0.\n",
      " 0.         1.         0.         0.0748472  0.         1.\n",
      " 0.         0.         0.25755    1.         0.         0.\n",
      " 0.         0.74177343 0.         1.         0.         0.\n",
      " 0.25854847 0.         0.         1.         0.         0.09355672\n",
      " 0.         1.         0.         0.         0.31969345 0.\n",
      " 0.        ]\n",
      "States have length: 37\n"
     ]
    }
   ],
   "source": [
    "# reset the environment\n",
    "env_info = env.reset(train_mode=True)[brain_name]\n",
    "\n",
    "# number of agents in the environment\n",
    "print('Number of agents:', len(env_info.agents))\n",
    "\n",
    "# number of actions\n",
    "action_size = brain.vector_action_space_size\n",
    "print('Number of actions:', action_size)\n",
    "\n",
    "# examine the state space \n",
    "state = env_info.vector_observations[0]\n",
    "print('States look like:', state)\n",
    "state_size = len(state)\n",
    "print('States have length:', state_size)"
   ]
  },
  {
   "cell_type": "markdown",
   "metadata": {},
   "source": [
    "### 3. Take Random Actions in the Environment\n",
    "\n",
    "In the next code cell, you will learn how to use the Python API to control the agent and receive feedback from the environment.\n",
    "\n",
    "Once this cell is executed, you will watch the agent's performance, if it selects an action (uniformly) at random with each time step.  A window should pop up that allows you to observe the agent, as it moves through the environment.  \n",
    "\n",
    "Of course, as part of the project, you'll have to change the code so that the agent is able to use its experience to gradually choose better actions when interacting with the environment!"
   ]
  },
  {
   "cell_type": "code",
   "execution_count": 5,
   "metadata": {},
   "outputs": [
    {
     "name": "stdout",
     "output_type": "stream",
     "text": [
      "Score: 0.0\n"
     ]
    }
   ],
   "source": [
    "env_info = env.reset(train_mode=False)[brain_name] # reset the environment\n",
    "state = env_info.vector_observations[0]            # get the current state\n",
    "score = 0                                          # initialize the score\n",
    "while True:\n",
    "    action = np.random.randint(action_size)        # select an action\n",
    "    env_info = env.step(action)[brain_name]        # send the action to the environment\n",
    "    next_state = env_info.vector_observations[0]   # get the next state\n",
    "    reward = env_info.rewards[0]                   # get the reward\n",
    "    done = env_info.local_done[0]                  # see if episode has finished\n",
    "    score += reward                                # update the score\n",
    "    state = next_state                             # roll over the state to next time step\n",
    "    if done:                                       # exit loop if episode finished\n",
    "        break\n",
    "    \n",
    "print(\"Score: {}\".format(score))"
   ]
  },
  {
   "cell_type": "markdown",
   "metadata": {},
   "source": [
    "When finished, you can close the environment."
   ]
  },
  {
   "cell_type": "code",
   "execution_count": 6,
   "metadata": {},
   "outputs": [],
   "source": [
    "env.close()"
   ]
  },
  {
   "cell_type": "markdown",
   "metadata": {},
   "source": [
    "### 4. It's Your Turn!\n",
    "\n",
    "Now it's your turn to train your own agent to solve the environment!  When training the environment, set `train_mode=True`, so that the line for resetting the environment looks like the following:\n",
    "```python\n",
    "env_info = env.reset(train_mode=True)[brain_name]\n",
    "```"
   ]
  },
  {
   "cell_type": "code",
   "execution_count": 5,
   "metadata": {},
   "outputs": [],
   "source": [
    "import random\n",
    "import torch\n",
    "import numpy as np\n",
    "from collections import deque\n",
    "import matplotlib.pyplot as plt\n",
    "%matplotlib inline\n",
    "from dqnagent import Agent\n",
    "def dqn(env, brain_name, params, n_episodes=500, max_t=1000, eps_start=1.0, eps_end=0.01, eps_decay=0.995):\n",
    "    \n",
    "    agent = Agent(37, 4, 1024, params)\n",
    "    \n",
    "    \"\"\"Deep Q-Learning.\n",
    "    \n",
    "    Params\n",
    "    ======\n",
    "        n_episodes (int): maximum number of training episodes\n",
    "        max_t (int): maximum number of timesteps per episode\n",
    "        eps_start (float): starting value of epsilon, for epsilon-greedy action selection\n",
    "        eps_end (float): minimum value of epsilon\n",
    "        eps_decay (float): multiplicative factor (per episode) for decreasing epsilon\n",
    "    \"\"\"\n",
    "    \n",
    "    scores = []                        # list containing scores from each episode\n",
    "    scores_window = deque(maxlen=100)  # last 100 scores\n",
    "    avg_i = []\n",
    "    eps = eps_start                    # initialize epsilon\n",
    "    for i_episode in range(1, n_episodes+1):\n",
    "        \n",
    "        # alpha value\n",
    "        malpha = (params[\"alphaf\"] - params[\"alpha0\"])/(params[\"nsteps_alpha\"] - 1)\n",
    "        alpha = malpha*(i_episode - 1) + params[\"alpha0\"]\n",
    "        \n",
    "        # beta value\n",
    "        mbeta = (params[\"betaf\"] - params[\"beta0\"])/(params[\"nsteps_beta\"] - 1)\n",
    "        beta = mbeta*(i_episode - 1) + params[\"beta0\"]\n",
    "        \n",
    "        env_info = env.reset(train_mode=True)[brain_name] # reset the environment\n",
    "        state = env_info.vector_observations[0]            # get the current state\n",
    "        score = 0                                          # initialize the score        \n",
    "        i = 0\n",
    "        while True:\n",
    "            action = agent.act(state, eps)       # select an action\n",
    "            env_info = env.step(action)[brain_name]        # send the action to the environment\n",
    "            next_state = env_info.vector_observations[0]   # get the next state\n",
    "            reward = env_info.rewards[0]                   # get the reward\n",
    "            done = env_info.local_done[0]                  # see if episode has finished\n",
    "            agent.step(state, action, reward, next_state, done, alpha = alpha, beta = beta)\n",
    "            score += reward                                # update the score\n",
    "            state = next_state  # roll over the state to next time step\n",
    "            i += 1\n",
    "            if done:                                       # exit loop if episode finished\n",
    "                break \n",
    "        avg_i.append(i)\n",
    "        \n",
    "        scores_window.append(score)       # save most recent score\n",
    "        scores.append(score)              # save most recent score\n",
    "        eps = max(eps_end, eps_decay*eps) # decrease epsilon\n",
    "        print('\\rEpisode {}\\tAverage Score: {:.2f}\\tAverage Episode Len : {}'.format(i_episode, np.mean(scores_window), np.mean(avg_i)), end=\"\")\n",
    "        if i_episode % 100 == 0:\n",
    "            print('\\rEpisode {}\\tAverage Score: {:.2f}\\tAverage Episode Len : {}'.format(i_episode, np.mean(scores_window), np.mean(avg_i)))\n",
    "        if np.mean(scores_window)>=13.0:\n",
    "            print('\\nEnvironment solved in {:d} episodes!\\tAverage Score: {:.2f}'.format(i_episode-100, np.mean(scores_window)))\n",
    "            torch.save(agent.qnetwork_local.state_dict(), 'checkpoint.pth')\n",
    "            break\n",
    "    return agent, scores"
   ]
  },
  {
   "cell_type": "code",
   "execution_count": 8,
   "metadata": {
    "tags": []
   },
   "outputs": [
    {
     "name": "stdout",
     "output_type": "stream",
     "text": [
      "Episode 100\tAverage Score: 0.40\tAverage Episode Len : 300.0\n",
      "Episode 200\tAverage Score: 3.03\tAverage Episode Len : 300.0\n",
      "Episode 300\tAverage Score: 7.63\tAverage Episode Len : 300.0\n",
      "Episode 400\tAverage Score: 9.85\tAverage Episode Len : 300.0\n",
      "Episode 500\tAverage Score: 12.38\tAverage Episode Len : 300.0\n",
      "Episode 522\tAverage Score: 13.00\tAverage Episode Len : 300.0\n",
      "Environment solved in 422 episodes!\tAverage Score: 13.00\n"
     ]
    }
   ],
   "source": [
    "from copy import deepcopy\n",
    "import torch\n",
    "params = {}\n",
    "params[\"LR\"] = 1e-3\n",
    "params[\"BUFFER_SIZE\"] = 100000\n",
    "params[\"TAU\"] = 1e-2\n",
    "params[\"BATCH_SIZE\"] = 64\n",
    "params[\"UPDATE_EVERY\"] = 4\n",
    "params[\"SAMPLE_FREQ\"] = 1\n",
    "params[\"GAMMA\"] = 0.9\n",
    "params[\"IS_DDQN\"] = False\n",
    "params[\"MEMORY_TYPE\"] = \"normal\"\n",
    "params[\"IS_DUELING\"] = False\n",
    "params[\"STATE_TYPE\"] = \"normal\"\n",
    "# Basic DQN\n",
    "agent, scores = dqn(env, brain_name, params, eps_end=0.03)"
   ]
  },
  {
   "cell_type": "code",
   "execution_count": 9,
   "metadata": {},
   "outputs": [
    {
     "name": "stdout",
     "output_type": "stream",
     "text": [
      "Episode 100\tAverage Score: 1.53\tAverage Episode Len : 300.0\n",
      "Episode 200\tAverage Score: 5.35\tAverage Episode Len : 300.0\n",
      "Episode 300\tAverage Score: 7.58\tAverage Episode Len : 300.0\n",
      "Episode 400\tAverage Score: 10.50\tAverage Episode Len : 300.0\n",
      "Episode 500\tAverage Score: 12.14\tAverage Episode Len : 300.0\n",
      "Episode 568\tAverage Score: 13.01\tAverage Episode Len : 300.0\n",
      "Environment solved in 468 episodes!\tAverage Score: 13.01\n"
     ]
    }
   ],
   "source": [
    "from copy import deepcopy\n",
    "params = {}\n",
    "params[\"LR\"] = 1e-3\n",
    "params[\"BUFFER_SIZE\"] = 100000\n",
    "params[\"TAU\"] = 1e-2\n",
    "params[\"BATCH_SIZE\"] = 64\n",
    "params[\"UPDATE_EVERY\"] = 4\n",
    "params[\"SAMPLE_FREQ\"] = 1\n",
    "params[\"GAMMA\"] = 0.9\n",
    "params[\"IS_DDQN\"] = True\n",
    "params[\"MEMORY_TYPE\"] = \"normal\"\n",
    "params[\"IS_DUELING\"] = False\n",
    "params[\"STATE_TYPE\"] = \"normal\"\n",
    "# Double DQN\n",
    "agent, scores = dqn(env, brain_name, params, eps_end=0.03)"
   ]
  },
  {
   "cell_type": "code",
   "execution_count": 10,
   "metadata": {},
   "outputs": [
    {
     "name": "stdout",
     "output_type": "stream",
     "text": [
      "Episode 100\tAverage Score: 1.06\tAverage Episode Len : 300.0\n",
      "Episode 200\tAverage Score: 4.83\tAverage Episode Len : 300.0\n",
      "Episode 300\tAverage Score: 8.49\tAverage Episode Len : 300.0\n",
      "Episode 400\tAverage Score: 10.82\tAverage Episode Len : 300.0\n",
      "Episode 500\tAverage Score: 12.32\tAverage Episode Len : 300.0\n",
      "Episode 554\tAverage Score: 13.00\tAverage Episode Len : 300.0\n",
      "Environment solved in 454 episodes!\tAverage Score: 13.00\n"
     ]
    }
   ],
   "source": [
    "from copy import deepcopy\n",
    "params = {}\n",
    "params[\"LR\"] = 1e-3\n",
    "params[\"BUFFER_SIZE\"] = 100000\n",
    "params[\"TAU\"] = 1e-2\n",
    "params[\"BATCH_SIZE\"] = 64\n",
    "params[\"UPDATE_EVERY\"] = 4\n",
    "params[\"SAMPLE_FREQ\"] = 1\n",
    "params[\"GAMMA\"] = 0.9\n",
    "params[\"IS_DDQN\"] = True\n",
    "params[\"MEMORY_TYPE\"] = \"normal\"\n",
    "params[\"IS_DUELING\"] = True\n",
    "params[\"STATE_TYPE\"] = \"normal\"\n",
    "# Double DQN + Dueling Network\n",
    "agent, scores = dqn(env, brain_name, params, eps_end=0.03)"
   ]
  },
  {
   "cell_type": "code",
   "execution_count": 6,
   "metadata": {},
   "outputs": [
    {
     "name": "stdout",
     "output_type": "stream",
     "text": [
      "Episode 100\tAverage Score: 0.49\tAverage Episode Len : 300.0\n",
      "Episode 200\tAverage Score: 4.43\tAverage Episode Len : 300.0\n",
      "Episode 300\tAverage Score: 8.21\tAverage Episode Len : 300.0\n",
      "Episode 400\tAverage Score: 9.44\tAverage Episode Len : 300.0\n",
      "Episode 500\tAverage Score: 11.93\tAverage Episode Len : 300.0\n",
      "Episode 583\tAverage Score: 13.02\tAverage Episode Len : 300.0\n",
      "Environment solved in 483 episodes!\tAverage Score: 13.02\n"
     ]
    }
   ],
   "source": [
    "from copy import deepcopy\n",
    "params = {}\n",
    "params[\"LR\"] = 1e-3\n",
    "params[\"BUFFER_SIZE\"] = 100000\n",
    "params[\"TAU\"] = 1e-2\n",
    "params[\"BATCH_SIZE\"] = 64\n",
    "params[\"UPDATE_EVERY\"] = 4\n",
    "params[\"SAMPLE_FREQ\"] = 1\n",
    "params[\"GAMMA\"] = 0.9\n",
    "params[\"IS_DDQN\"] = True\n",
    "params[\"MEMORY_TYPE\"] = \"prioritized\"\n",
    "params[\"IS_DUELING\"] = True\n",
    "params[\"STATE_TYPE\"] = \"normal\"\n",
    "# Double DQN + Dueling Network + prioritized(alpha=0, beta = 0)\n",
    "agent, scores = dqn(env, brain_name, params, eps_end=0.03)"
   ]
  },
  {
   "cell_type": "code",
   "execution_count": 8,
   "metadata": {},
   "outputs": [
    {
     "name": "stdout",
     "output_type": "stream",
     "text": [
      "Episode 100\tAverage Score: 0.93\tAverage Episode Len : 300.0\n",
      "Episode 200\tAverage Score: 4.08\tAverage Episode Len : 300.0\n",
      "Episode 300\tAverage Score: 7.04\tAverage Episode Len : 300.0\n",
      "Episode 400\tAverage Score: 7.86\tAverage Episode Len : 300.0\n",
      "Episode 500\tAverage Score: 8.81\tAverage Episode Len : 300.0\n"
     ]
    }
   ],
   "source": [
    "from copy import deepcopy\n",
    "params = {}\n",
    "params[\"LR\"] = 1e-3\n",
    "params[\"BUFFER_SIZE\"] = 100000\n",
    "params[\"TAU\"] = 1e-2\n",
    "params[\"BATCH_SIZE\"] = 64\n",
    "params[\"UPDATE_EVERY\"] = 4\n",
    "params[\"SAMPLE_FREQ\"] = 1\n",
    "params[\"GAMMA\"] = 0.9\n",
    "params[\"IS_DDQN\"] = True\n",
    "params[\"MEMORY_TYPE\"] = \"prioritized\"\n",
    "params[\"IS_DUELING\"] = True\n",
    "params[\"STATE_TYPE\"] = \"normal\"\n",
    "params[\"alpha0\"] = 0.0\n",
    "params[\"alphaf\"] = 0.25\n",
    "params[\"nsteps_alpha\"] = 250\n",
    "params[\"beta0\"] = 0.2\n",
    "params[\"betaf\"] = 1\n",
    "params[\"nsteps_beta\"] = 500\n",
    "# Double DQN + Dueling Network + prioritized(alpha = 0, beta = 0)\n",
    "agent, scores = dqn(env, brain_name, params, eps_end=0.03)"
   ]
  },
  {
   "cell_type": "code",
   "execution_count": 9,
   "metadata": {},
   "outputs": [
    {
     "name": "stdout",
     "output_type": "stream",
     "text": [
      "Score: 12.0\n"
     ]
    }
   ],
   "source": [
    "env_info = env.reset(train_mode=False)[brain_name] # reset the environment\n",
    "state = env_info.vector_observations[0]            # get the current state\n",
    "score = 0                                          # initialize the score\n",
    "while True:\n",
    "    action = agent.act(state, eps=0)          # select an action\n",
    "    env_info = env.step(action)[brain_name]        # send the action to the environment\n",
    "    next_state = env_info.vector_observations[0]   # get the next state\n",
    "    reward = env_info.rewards[0]                   # get the reward\n",
    "    done = env_info.local_done[0]                  # see if episode has finished\n",
    "    score += reward                                # update the score\n",
    "    state = next_state                             # roll over the state to next time step\n",
    "    if done:                                       # exit loop if episode finished\n",
    "        break\n",
    "    \n",
    "print(\"Score: {}\".format(score))"
   ]
  },
  {
   "cell_type": "code",
   "execution_count": 1,
   "metadata": {},
   "outputs": [],
   "source": [
    "from dqnLoop import banana_collector_dqn_training_loop\n",
    "params = {}\n",
    "params[\"n_episodes\"] = 600\n",
    "params[\"max_t\"] = 1000\n",
    "params[\"eps_start\"] = 1.\n",
    "params[\"eps_end\"] = 0.01\n",
    "params[\"eps_decay\"] = 0.995\n",
    "\n",
    "params[\"alpha0\"] = 0.0\n",
    "params[\"alphaf\"] = 0.25\n",
    "params[\"nsteps_alpha\"] = 250\n",
    "params[\"beta0\"] = 0.2\n",
    "params[\"betaf\"] = 1\n",
    "params[\"nsteps_beta\"] = 500\n",
    "\n",
    "params[\"LR\"] = 1e-3\n",
    "params[\"BUFFER_SIZE\"] = 100000\n",
    "params[\"TAU\"] = 1e-2\n",
    "params[\"BATCH_SIZE\"] = 64\n",
    "params[\"UPDATE_EVERY\"] = 4\n",
    "params[\"SAMPLE_FREQ\"] = 1\n",
    "params[\"GAMMA\"] = 0.9\n",
    "params[\"IS_DDQN\"] = True\n",
    "params[\"MEMORY_TYPE\"] = \"prioritized\"\n",
    "params[\"IS_DUELING\"] = True\n",
    "\n",
    "params[\"STATE_TYPE\"] = \"normal\"\n",
    "params[\"ENVIRONMENT_PATH\"] = \"Banana.app\"\n"
   ]
  },
  {
   "cell_type": "code",
   "execution_count": null,
   "metadata": {},
   "outputs": [],
   "source": []
  }
 ],
 "metadata": {
  "kernelspec": {
   "display_name": "drlnd",
   "language": "python",
   "name": "drlnd"
  },
  "language_info": {
   "codemirror_mode": {
    "name": "ipython",
    "version": 3
   },
   "file_extension": ".py",
   "mimetype": "text/x-python",
   "name": "python",
   "nbconvert_exporter": "python",
   "pygments_lexer": "ipython3",
   "version": "3.6.13"
  }
 },
 "nbformat": 4,
 "nbformat_minor": 4
}
