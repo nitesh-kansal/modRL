{
 "cells": [
  {
   "cell_type": "code",
   "execution_count": 7,
   "id": "ed9f4bbc-e1e5-49fe-abbc-a1b6df9e8a10",
   "metadata": {},
   "outputs": [
    {
     "name": "stdout",
     "output_type": "stream",
     "text": [
      "[1, 2, 3, 4, 5]\n",
      "[1, 2, 3, 4, 5]\n",
      "[1, 2, 3, 4, 5, 6]\n"
     ]
    }
   ],
   "source": [
    "import random\n",
    "def swap(arr, i,j):\n",
    "    t = arr[i]\n",
    "    arr[i] = arr[j]\n",
    "    arr[j] = t\n",
    "\n",
    "def partition(arr, l, r):\n",
    "    pivot = arr[random.randint(l, r)]\n",
    "    pivot_index = l\n",
    "    for i in range(l,r+1):\n",
    "        if arr[i] <= pivot:\n",
    "            swap(arr, pivot_index, i)\n",
    "            pivot_index += 1\n",
    "    return pivot_index\n",
    "\n",
    "def quicksort(arr, l, r):\n",
    "    if r > l:\n",
    "        pivot_index = partition(arr, l, r)\n",
    "        quicksort(arr, l, pivot_index-1)\n",
    "        quicksort(arr, pivot_index, r)\n",
    "        \n",
    "arr =  [1,2,3,4,5]    \n",
    "quicksort(arr, 0, 4)\n",
    "print(arr)\n",
    "\n",
    "arr =  [5,4,3,2,1]    \n",
    "quicksort(arr, 0, 4)\n",
    "print(arr)\n",
    "\n",
    "arr =  [3,2,1,5,6,4]    \n",
    "quicksort(arr, 0, 5)\n",
    "print(arr)\n",
    "\n",
    "# T(n) = n + 2*T(n/2) => n * logn times => O(nlogn)"
   ]
  },
  {
   "cell_type": "code",
   "execution_count": 11,
   "id": "450ceb6c-1c57-4d39-8f69-041adb1093f4",
   "metadata": {},
   "outputs": [
    {
     "name": "stdout",
     "output_type": "stream",
     "text": [
      "[1, 2, 3, 4, 5]\n",
      "[1, 2, 3, 4, 5]\n",
      "[1, 2, 3, 4, 5, 6]\n"
     ]
    }
   ],
   "source": [
    "def merge(A, B):\n",
    "    la = len(A)\n",
    "    lb = len(B)\n",
    "    output = [0]*(la+lb)\n",
    "    ia = 0\n",
    "    ib = 0\n",
    "    for i in range(la+lb):\n",
    "        if (ib < lb) and ((ia >= la) or (B[ib] < A[ia])):\n",
    "            output[i] = B[ib]\n",
    "            ib += 1\n",
    "        else:\n",
    "            output[i] = A[ia]\n",
    "            ia += 1\n",
    "    return output\n",
    "\n",
    "def mergesort(arr, l, r):\n",
    "    if r > l:\n",
    "        mid = int((l+r)/2)\n",
    "        sortA = mergesort(arr, l, mid)\n",
    "        sortB = mergesort(arr, mid+1, r)\n",
    "        return merge(sortA, sortB)\n",
    "    else:\n",
    "        return [arr[l]]\n",
    "\n",
    "arr =  [1,2,3,4,5]    \n",
    "print(mergesort(arr, 0, 4))\n",
    "\n",
    "arr =  [5,4,3,2,1]    \n",
    "print(mergesort(arr, 0, 4))\n",
    "\n",
    "arr =  [3,2,1,5,6,4]    \n",
    "print(mergesort(arr, 0, 5))\n",
    "\n",
    "# T(n) = 2 T(n/2) + n => n * log(n) => O(n logn)"
   ]
  },
  {
   "cell_type": "code",
   "execution_count": 12,
   "id": "fce63b0f-ba09-4791-aa22-fc4a90a3aea7",
   "metadata": {},
   "outputs": [
    {
     "name": "stdout",
     "output_type": "stream",
     "text": [
      "2\n",
      "4\n",
      "3\n"
     ]
    }
   ],
   "source": [
    "def swap(arr, i, j):\n",
    "    t = arr[i]\n",
    "    arr[i] = arr[j]\n",
    "    arr[j] = t\n",
    "    \n",
    "def partition(arr, l, r):\n",
    "    pivot = arr[random.randint(l,r)]\n",
    "    pivot_index = l\n",
    "    for i in range(l,r+1):\n",
    "        if arr[i] <= pivot:\n",
    "            swap(arr, pivot_index, i)\n",
    "            pivot_index += 1\n",
    "    return pivot_index\n",
    "        \n",
    "def kthlargestElement(arr, l, r, k):\n",
    "    if r > l:\n",
    "        pivot_index = partition(arr, l, r)\n",
    "        if k > pivot_index:\n",
    "            return kthlargestElement(arr, pivot_index, r, k)\n",
    "        else:\n",
    "            return kthlargestElement(arr, l, pivot_index-1, k)\n",
    "    else:\n",
    "        return arr[l]\n",
    "    \n",
    "arr =  [1,2,3,4,5]    \n",
    "print(kthlargestElement(arr, 0, 4, 2))\n",
    "\n",
    "arr =  [5,4,3,2,1]    \n",
    "print(kthlargestElement(arr, 0, 4, 4))\n",
    "\n",
    "arr =  [3,2,1,5,6,4]    \n",
    "print(kthlargestElement(arr, 0, 5, 3))\n",
    "\n",
    "# T(n) = n + T(n/2) => n + n/2 + n/4 ... h=log(n) times => n * (1 - (1/2)^h)/(1/2) => O(2n) => O(n)"
   ]
  },
  {
   "cell_type": "code",
   "execution_count": null,
   "id": "24d419d5-c980-4a01-b705-1a199125c4b4",
   "metadata": {},
   "outputs": [],
   "source": []
  }
 ],
 "metadata": {
  "kernelspec": {
   "display_name": "Python 3 (ipykernel)",
   "language": "python",
   "name": "python3"
  },
  "language_info": {
   "codemirror_mode": {
    "name": "ipython",
    "version": 3
   },
   "file_extension": ".py",
   "mimetype": "text/x-python",
   "name": "python",
   "nbconvert_exporter": "python",
   "pygments_lexer": "ipython3",
   "version": "3.10.10"
  }
 },
 "nbformat": 4,
 "nbformat_minor": 5
}
